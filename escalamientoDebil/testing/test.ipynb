{
 "cells": [
  {
   "cell_type": "code",
   "execution_count": 4,
   "metadata": {},
   "outputs": [],
   "source": [
    "import pandas as pd\n",
    "import numpy as np"
   ]
  },
  {
   "cell_type": "code",
   "execution_count": 5,
   "metadata": {},
   "outputs": [],
   "source": [
    "path = 'time_volta_order_10.txt'\n",
    "\n",
    "time = pd.read_csv(path,header=None)\n",
    "\n",
    "time = time.drop(time.columns[0], axis=1)\n",
    "\n",
    "\n",
    "\n",
    "nThreads = time.shape[0]\n",
    "#SpeedUp= T(1Thread)/T(Nthreads)\n",
    "\n",
    "speedup = time.iloc[0,:] /time.iloc[:,:]\n",
    "\n",
    "threadsArray = np.arange(1,nThreads+1)\n",
    "efficiency = speedup/(threadsArray.reshape(-1, 1))\n",
    "\n",
    "mean_speedup = speedup.mean(axis=1)\n",
    "std_speedup = speedup.std(axis=1)\n",
    "mean_efficiency = efficiency.mean(axis=1)\n",
    "std_efficiency = efficiency.std(axis=1)"
   ]
  },
  {
   "cell_type": "code",
   "execution_count": 8,
   "metadata": {},
   "outputs": [
    {
     "data": {
      "text/plain": [
       "(0     1.000000\n",
       " 1     1.831124\n",
       " 2     2.307000\n",
       " 3     2.750324\n",
       " 4     2.925158\n",
       " 5     2.966637\n",
       " 6     3.046574\n",
       " 7     3.004721\n",
       " 8     2.532791\n",
       " 9     2.620594\n",
       " 10    2.658892\n",
       " 11    2.696021\n",
       " 12    2.722191\n",
       " 13    2.678890\n",
       " 14    2.645083\n",
       " 15    2.380343\n",
       " dtype: float64,\n",
       " 0     0.000000\n",
       " 1     0.253418\n",
       " 2     0.310581\n",
       " 3     0.375720\n",
       " 4     0.400459\n",
       " 5     0.403772\n",
       " 6     0.413660\n",
       " 7     0.411746\n",
       " 8     0.352649\n",
       " 9     0.374082\n",
       " 10    0.358540\n",
       " 11    0.365209\n",
       " 12    0.371665\n",
       " 13    0.361588\n",
       " 14    0.367935\n",
       " 15    0.320134\n",
       " dtype: float64)"
      ]
     },
     "execution_count": 8,
     "metadata": {},
     "output_type": "execute_result"
    }
   ],
   "source": [
    "mean_speedup, std_speedup"
   ]
  },
  {
   "cell_type": "code",
   "execution_count": 7,
   "metadata": {},
   "outputs": [
    {
     "data": {
      "text/plain": [
       "(0     1.000000\n",
       " 1     0.915562\n",
       " 2     0.769000\n",
       " 3     0.687581\n",
       " 4     0.585032\n",
       " 5     0.494440\n",
       " 6     0.435225\n",
       " 7     0.375590\n",
       " 8     0.281421\n",
       " 9     0.262059\n",
       " 10    0.241717\n",
       " 11    0.224668\n",
       " 12    0.209399\n",
       " 13    0.191349\n",
       " 14    0.176339\n",
       " 15    0.148771\n",
       " dtype: float64,\n",
       " 0     0.000000\n",
       " 1     0.126709\n",
       " 2     0.103527\n",
       " 3     0.093930\n",
       " 4     0.080092\n",
       " 5     0.067295\n",
       " 6     0.059094\n",
       " 7     0.051468\n",
       " 8     0.039183\n",
       " 9     0.037408\n",
       " 10    0.032595\n",
       " 11    0.030434\n",
       " 12    0.028590\n",
       " 13    0.025828\n",
       " 14    0.024529\n",
       " 15    0.020008\n",
       " dtype: float64)"
      ]
     },
     "execution_count": 7,
     "metadata": {},
     "output_type": "execute_result"
    }
   ],
   "source": [
    "mean_efficiency, std_efficiency"
   ]
  },
  {
   "cell_type": "code",
   "execution_count": null,
   "metadata": {},
   "outputs": [],
   "source": []
  }
 ],
 "metadata": {
  "kernelspec": {
   "display_name": "Python 3",
   "language": "python",
   "name": "python3"
  },
  "language_info": {
   "codemirror_mode": {
    "name": "ipython",
    "version": 3
   },
   "file_extension": ".py",
   "mimetype": "text/x-python",
   "name": "python",
   "nbconvert_exporter": "python",
   "pygments_lexer": "ipython3",
   "version": "3.11.9"
  }
 },
 "nbformat": 4,
 "nbformat_minor": 2
}
