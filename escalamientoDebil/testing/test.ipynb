{
 "cells": [
  {
   "cell_type": "code",
   "execution_count": 1,
   "metadata": {},
   "outputs": [],
   "source": [
    "import pandas as pd"
   ]
  },
  {
   "cell_type": "code",
   "execution_count": 2,
   "metadata": {},
   "outputs": [
    {
     "ename": "NameError",
     "evalue": "name 'path' is not defined",
     "output_type": "error",
     "traceback": [
      "\u001b[1;31m---------------------------------------------------------------------------\u001b[0m",
      "\u001b[1;31mNameError\u001b[0m                                 Traceback (most recent call last)",
      "Cell \u001b[1;32mIn[2], line 1\u001b[0m\n\u001b[1;32m----> 1\u001b[0m time \u001b[38;5;241m=\u001b[39m pd\u001b[38;5;241m.\u001b[39mread_csv(\u001b[43mpath\u001b[49m,header\u001b[38;5;241m=\u001b[39m\u001b[38;5;28;01mNone\u001b[39;00m)\n\u001b[0;32m      3\u001b[0m time \u001b[38;5;241m=\u001b[39m time\u001b[38;5;241m.\u001b[39mdrop(time\u001b[38;5;241m.\u001b[39mcolumns[\u001b[38;5;241m0\u001b[39m], axis\u001b[38;5;241m=\u001b[39m\u001b[38;5;241m1\u001b[39m)\n\u001b[0;32m      7\u001b[0m nThreads \u001b[38;5;241m=\u001b[39m time\u001b[38;5;241m.\u001b[39mshape[\u001b[38;5;241m0\u001b[39m]\n",
      "\u001b[1;31mNameError\u001b[0m: name 'path' is not defined"
     ]
    }
   ],
   "source": [
    "path = 'time_volta_order_10.txt'\n",
    "\n",
    "time = pd.read_csv(path,header=None)\n",
    "\n",
    "time = time.drop(time.columns[0], axis=1)\n",
    "\n",
    "\n",
    "\n",
    "nThreads = time.shape[0]\n",
    "#SpeedUp= T(1Thread)/T(Nthreads)\n",
    "\n",
    "speedup = time.iloc[0,:] /time.iloc[:,:]\n",
    "\n",
    "threadsArray = np.arange(1,nThreads+1)\n",
    "efficiency = speedup/(threadsArray.reshape(-1, 1))\n",
    "\n",
    "mean_speedup = speedup.mean(axis=1)\n",
    "std_speedup = speedup.std(axis=1)\n",
    "mean_efficiency = efficiency.mean(axis=1)\n",
    "std_efficiency = efficiency.std(axis=1)"
   ]
  },
  {
   "cell_type": "code",
   "execution_count": null,
   "metadata": {},
   "outputs": [],
   "source": []
  }
 ],
 "metadata": {
  "kernelspec": {
   "display_name": "Python 3",
   "language": "python",
   "name": "python3"
  },
  "language_info": {
   "codemirror_mode": {
    "name": "ipython",
    "version": 3
   },
   "file_extension": ".py",
   "mimetype": "text/x-python",
   "name": "python",
   "nbconvert_exporter": "python",
   "pygments_lexer": "ipython3",
   "version": "3.11.9"
  }
 },
 "nbformat": 4,
 "nbformat_minor": 2
}
